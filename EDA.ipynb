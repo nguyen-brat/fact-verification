{
  "nbformat": 4,
  "nbformat_minor": 0,
  "metadata": {
    "colab": {
      "provenance": []
    },
    "kernelspec": {
      "name": "python3",
      "display_name": "Python 3"
    },
    "language_info": {
      "name": "python"
    }
  },
  "cells": [
    {
      "cell_type": "code",
      "source": [
        "!pip install underthesea"
      ],
      "metadata": {
        "colab": {
          "base_uri": "https://localhost:8080/"
        },
        "id": "7Lp0DsOv7OP7",
        "outputId": "b31b72c5-bc8a-48da-ac9e-6a72c0f613a6"
      },
      "execution_count": 1,
      "outputs": [
        {
          "output_type": "stream",
          "name": "stdout",
          "text": [
            "Collecting underthesea\n",
            "  Downloading underthesea-6.8.0-py3-none-any.whl (20.9 MB)\n",
            "\u001b[2K     \u001b[90m━━━━━━━━━━━━━━━━━━━━━━━━━━━━━━━━━━━━━━━━\u001b[0m \u001b[32m20.9/20.9 MB\u001b[0m \u001b[31m53.7 MB/s\u001b[0m eta \u001b[36m0:00:00\u001b[0m\n",
            "\u001b[?25hRequirement already satisfied: Click>=6.0 in /usr/local/lib/python3.10/dist-packages (from underthesea) (8.1.7)\n",
            "Collecting python-crfsuite>=0.9.6 (from underthesea)\n",
            "  Downloading python_crfsuite-0.9.9-cp310-cp310-manylinux_2_17_x86_64.manylinux2014_x86_64.whl (993 kB)\n",
            "\u001b[2K     \u001b[90m━━━━━━━━━━━━━━━━━━━━━━━━━━━━━━━━━━━━━━\u001b[0m \u001b[32m993.5/993.5 kB\u001b[0m \u001b[31m50.7 MB/s\u001b[0m eta \u001b[36m0:00:00\u001b[0m\n",
            "\u001b[?25hRequirement already satisfied: nltk in /usr/local/lib/python3.10/dist-packages (from underthesea) (3.8.1)\n",
            "Requirement already satisfied: tqdm in /usr/local/lib/python3.10/dist-packages (from underthesea) (4.66.1)\n",
            "Requirement already satisfied: requests in /usr/local/lib/python3.10/dist-packages (from underthesea) (2.31.0)\n",
            "Requirement already satisfied: joblib in /usr/local/lib/python3.10/dist-packages (from underthesea) (1.3.2)\n",
            "Requirement already satisfied: scikit-learn in /usr/local/lib/python3.10/dist-packages (from underthesea) (1.2.2)\n",
            "Requirement already satisfied: PyYAML in /usr/local/lib/python3.10/dist-packages (from underthesea) (6.0.1)\n",
            "Collecting underthesea-core==1.0.4 (from underthesea)\n",
            "  Downloading underthesea_core-1.0.4-cp310-cp310-manylinux2010_x86_64.whl (657 kB)\n",
            "\u001b[2K     \u001b[90m━━━━━━━━━━━━━━━━━━━━━━━━━━━━━━━━━━━━━━\u001b[0m \u001b[32m657.8/657.8 kB\u001b[0m \u001b[31m44.2 MB/s\u001b[0m eta \u001b[36m0:00:00\u001b[0m\n",
            "\u001b[?25hRequirement already satisfied: regex>=2021.8.3 in /usr/local/lib/python3.10/dist-packages (from nltk->underthesea) (2023.6.3)\n",
            "Requirement already satisfied: charset-normalizer<4,>=2 in /usr/local/lib/python3.10/dist-packages (from requests->underthesea) (3.2.0)\n",
            "Requirement already satisfied: idna<4,>=2.5 in /usr/local/lib/python3.10/dist-packages (from requests->underthesea) (3.4)\n",
            "Requirement already satisfied: urllib3<3,>=1.21.1 in /usr/local/lib/python3.10/dist-packages (from requests->underthesea) (2.0.4)\n",
            "Requirement already satisfied: certifi>=2017.4.17 in /usr/local/lib/python3.10/dist-packages (from requests->underthesea) (2023.7.22)\n",
            "Requirement already satisfied: numpy>=1.17.3 in /usr/local/lib/python3.10/dist-packages (from scikit-learn->underthesea) (1.23.5)\n",
            "Requirement already satisfied: scipy>=1.3.2 in /usr/local/lib/python3.10/dist-packages (from scikit-learn->underthesea) (1.11.2)\n",
            "Requirement already satisfied: threadpoolctl>=2.0.0 in /usr/local/lib/python3.10/dist-packages (from scikit-learn->underthesea) (3.2.0)\n",
            "Installing collected packages: underthesea-core, python-crfsuite, underthesea\n",
            "Successfully installed python-crfsuite-0.9.9 underthesea-6.8.0 underthesea-core-1.0.4\n"
          ]
        }
      ]
    },
    {
      "cell_type": "code",
      "source": [
        "!pip install rank_bm25"
      ],
      "metadata": {
        "colab": {
          "base_uri": "https://localhost:8080/"
        },
        "id": "EcgLyzXtQsU6",
        "outputId": "500f4549-be8b-43a8-97d0-d20f9bda3e9e"
      },
      "execution_count": 2,
      "outputs": [
        {
          "output_type": "stream",
          "name": "stdout",
          "text": [
            "Collecting rank_bm25\n",
            "  Downloading rank_bm25-0.2.2-py3-none-any.whl (8.6 kB)\n",
            "Requirement already satisfied: numpy in /usr/local/lib/python3.10/dist-packages (from rank_bm25) (1.23.5)\n",
            "Installing collected packages: rank_bm25\n",
            "Successfully installed rank_bm25-0.2.2\n"
          ]
        }
      ]
    },
    {
      "cell_type": "code",
      "execution_count": 12,
      "metadata": {
        "id": "zQUmrJxfNcVu"
      },
      "outputs": [],
      "source": [
        "import numpy as np\n",
        "import pandas as pd\n",
        "import matplotlib.pyplot as plt\n",
        "import seaborn as sns\n",
        "import glob\n",
        "from glob import glob\n",
        "import json\n",
        "from underthesea import sent_tokenize\n",
        "import re\n",
        "from rank_bm25 import BM25Okapi\n",
        "import collections"
      ]
    },
    {
      "cell_type": "code",
      "source": [
        "from google.colab import drive\n",
        "\n",
        "drive.mount('/content/gdrive')"
      ],
      "metadata": {
        "colab": {
          "base_uri": "https://localhost:8080/"
        },
        "id": "Uhtl9-TfF_sl",
        "outputId": "c2c72117-52f6-44d3-902a-668c999b787f"
      },
      "execution_count": 4,
      "outputs": [
        {
          "output_type": "stream",
          "name": "stdout",
          "text": [
            "Mounted at /content/gdrive\n"
          ]
        }
      ]
    },
    {
      "cell_type": "code",
      "source": [
        "class Visualization():\n",
        "  def __init__(self,\n",
        "               data_path):\n",
        "    self.data_paths = glob(data_path + '/*/*.json')\n",
        "    self.raw_data = self.read_files(self.data_paths)\n",
        "    self.raw_data = pd.DataFrame(self.raw_data)\n",
        "    self.bm25 = BM25Okapi([txt.split() for txt in self.raw_data['context']])\n",
        "    raw_context = self.raw_data['context'].map(self.split_doc)\n",
        "    self.raw_context = []\n",
        "    for i in range(len(raw_context)):\n",
        "      self.raw_context.extend(raw_context[i])\n",
        "    self.raw_context = pd.Series(self.raw_context)\n",
        "\n",
        "  def read_files(self, paths):\n",
        "        results = list(map(self.read_file, paths))\n",
        "        return results\n",
        "\n",
        "  @staticmethod\n",
        "  def read_file(file):\n",
        "    with open(file, 'r') as f:\n",
        "      data = json.load(f)\n",
        "    return data\n",
        "\n",
        "  @staticmethod\n",
        "  def split_doc(graphs):\n",
        "    output = sent_tokenize(graphs)\n",
        "    in_element = list(map(lambda x:x[:-1].strip(), output[:-1]))\n",
        "    last_element = output[-1] if (output[-1][-1] != '.') else output[-1][-1].strip()\n",
        "    return in_element + [last_element]\n",
        "\n",
        "  def num_of_sentences(self):\n",
        "    context = list(self.raw_data['context'])\n",
        "    nos = [len(sent_tokenize(x)) for x in context]\n",
        "    plt.hist(nos, bins=list(range(max(nos) + 1)))\n",
        "    plt.show()\n",
        "    print(\"Số câu trung bình của các đoạn context:\", np.mean(nos))\n",
        "\n",
        "  def num_of_words_claims(self):\n",
        "    claim = list(self.raw_data['claim'])\n",
        "    claim = [len(x.split()) for x in claim]\n",
        "    plt.hist(claim, bins=list(range(max(claim) + 1)))\n",
        "    plt.show()\n",
        "    print(\"Số từ trung bình trong 1 claim:\", np.mean(claim))\n",
        "\n",
        "  def num_of_words_evidient(self):\n",
        "    evidient = list(self.raw_data['evidient'])\n",
        "    evidient = [len(x.split()) for x in evidient]\n",
        "    plt.hist(evidient, bins=list(range(max(evidient) + 1)))\n",
        "    plt.show()\n",
        "    print(\"Số từ trung bình trong 1 evidient:\", np.mean(evidient))\n",
        "\n",
        "  def label(self):\n",
        "    return self.raw_data['verdict'].value_counts(0)\n",
        "\n",
        "  def bm25_retrieval(self, text, top_k):\n",
        "    doc_scores = np.array(self.bm25.get_scores(text.split()))\n",
        "    sort_idx = np.flip(np.argsort(doc_scores))\n",
        "    return [self.raw_context[idx] for idx in sort_idx[:top_k]]\n",
        "\n",
        "  def bm25_result(self, top_k):\n",
        "    correct = 0\n",
        "    wrong = 0\n",
        "    for i in range(len(self.raw_data['claim'])):\n",
        "      fact_list = self.bm25_retrieval(self.raw_data['claim'][i], top_k)\n",
        "      if self.raw_data['evidient'][i] in fact_list:\n",
        "        correct += 1\n",
        "      else:\n",
        "        wrong += 1\n",
        "    accuracy = correct / (correct + wrong)\n",
        "    result = pd.DataFrame({\"Labels\": [\"Correct\", \"Wrong\"], \"Values\": [correct, wrong]})\n",
        "    result.plot.bar(x=\"Labels\", y=\"Values\")\n",
        "    print(\"Độ chính xác khi dùng bm25 là:\", accuracy * 100, \"%\")\n",
        "\n"
      ],
      "metadata": {
        "id": "wkUhnn5MNm1U"
      },
      "execution_count": 29,
      "outputs": []
    },
    {
      "cell_type": "code",
      "source": [
        "a = Visualization(\"/content/gdrive/MyDrive/Test/train\")"
      ],
      "metadata": {
        "id": "XJBHmG_KF7Q7"
      },
      "execution_count": 30,
      "outputs": []
    },
    {
      "cell_type": "code",
      "source": [
        "a.bm25_result(10)"
      ],
      "metadata": {
        "colab": {
          "base_uri": "https://localhost:8080/",
          "height": 503
        },
        "id": "ROOABhgNPY3V",
        "outputId": "d6c486a2-937b-4c10-85ed-e137806a0cbd"
      },
      "execution_count": 31,
      "outputs": [
        {
          "output_type": "stream",
          "name": "stdout",
          "text": [
            "Độ chính xác khi dùng bm25 là: 72.63636363636363 %\n"
          ]
        },
        {
          "output_type": "display_data",
          "data": {
            "text/plain": [
              "<Figure size 640x480 with 1 Axes>"
            ],
            "image/png": "[encoded data removed]"
          },
          "metadata": {}
        }
      ]
    },
    {
      "cell_type": "code",
      "source": [],
      "metadata": {
        "id": "yfg3V9itUy_m"
      },
      "execution_count": null,
      "outputs": []
    }
  ]
}